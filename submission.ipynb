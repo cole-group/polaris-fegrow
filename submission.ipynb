{
 "cells": [
  {
   "cell_type": "code",
   "execution_count": 1,
   "id": "1da646c2-94f1-4fd0-ab55-8733203fb356",
   "metadata": {},
   "outputs": [
    {
     "name": "stderr",
     "output_type": "stream",
     "text": [
      "/tank/home/ndc104/anaconda3/envs/polaris/lib/python3.12/site-packages/tqdm/auto.py:21: TqdmWarning: IProgress not found. Please update jupyter and ipywidgets. See https://ipywidgets.readthedocs.io/en/stable/user_install.html\n",
      "  from .autonotebook import tqdm as notebook_tqdm\n",
      "\u001b[32m2025-03-06 10:50:06.810\u001b[0m | \u001b[33m\u001b[1mWARNING \u001b[0m | \u001b[36mpolaris.dataset._base\u001b[0m:\u001b[36mzarr_root\u001b[0m:\u001b[36m179\u001b[0m - \u001b[33m\u001b[1mYou're loading data from a remote location. If the dataset is small enough, consider caching the dataset first using CompetitionSpecification.cache() for more performant data access.\u001b[0m\n"
     ]
    }
   ],
   "source": [
    "import polaris as po\n",
    "import base64\n",
    "from rdkit import Chem\n",
    "import datamol as dm\n",
    "\n",
    "competition = po.load_competition(\"asap-discovery/antiviral-ligand-poses-2025\")"
   ]
  },
  {
   "cell_type": "code",
   "execution_count": 2,
   "id": "ebebbfec-49a5-4e4a-83e1-db21041d1f3e",
   "metadata": {},
   "outputs": [
    {
     "name": "stdout",
     "output_type": "stream",
     "text": [
      "105 106\n"
     ]
    },
    {
     "name": "stderr",
     "output_type": "stream",
     "text": [
      "[10:55:46] Warning: molecule is tagged as 2D, but at least one Z coordinate is not zero. Marking the mol as 3D.\n",
      "[10:55:46] Warning: molecule is tagged as 2D, but at least one Z coordinate is not zero. Marking the mol as 3D.\n",
      "[10:55:46] Warning: molecule is tagged as 2D, but at least one Z coordinate is not zero. Marking the mol as 3D.\n",
      "[10:55:46] Warning: molecule is tagged as 2D, but at least one Z coordinate is not zero. Marking the mol as 3D.\n",
      "[10:55:46] Warning: molecule is tagged as 2D, but at least one Z coordinate is not zero. Marking the mol as 3D.\n",
      "[10:55:46] Warning: molecule is tagged as 2D, but at least one Z coordinate is not zero. Marking the mol as 3D.\n",
      "[10:55:46] Warning: molecule is tagged as 2D, but at least one Z coordinate is not zero. Marking the mol as 3D.\n",
      "[10:55:46] Warning: molecule is tagged as 2D, but at least one Z coordinate is not zero. Marking the mol as 3D.\n"
     ]
    }
   ],
   "source": [
    "y_pred_mers = []\n",
    "y_pred_sars = []\n",
    "\n",
    "input_sdf_mers = 'MERS/full_run-MERS/cs_optimised_molecules.sdf'\n",
    "input_sdf_mers_R2 = 'MERS/complex-79/cs_optimised_molecules.sdf'\n",
    "input_sdf_mers_docking = 'MERS/docking/merged-MERS.sdf'\n",
    "\n",
    "input_sdf_sars = 'SARS/full_run-SARS/cs_optimised_molecules.sdf'\n",
    "input_sdf_sars_R2 = 'SARS/complex-48/cs_optimised_molecules.sdf'\n",
    "input_sdf_sars_docking = 'SARS/docking/merged-SARS.sdf'\n",
    "\n",
    "\n",
    "## Collect MERS data, add later runs at top of file:\n",
    "\n",
    "with Chem.SDMolSupplier(input_sdf_mers_docking) as SDF:\n",
    "    # for each mol\n",
    "    for mol in SDF:\n",
    "        if mol is None:\n",
    "            continue\n",
    "        y_pred_mers.append(mol)\n",
    "\n",
    "with Chem.SDMolSupplier(input_sdf_mers_R2) as SDF:\n",
    "    # for each mol\n",
    "    for mol in SDF:\n",
    "        if mol is None:\n",
    "            continue\n",
    "        if mol.GetPropsAsDict()['Success'] == 'True':\n",
    "            y_pred_mers.append(mol)\n",
    "\n",
    "with Chem.SDMolSupplier(input_sdf_mers) as SDF:\n",
    "    # for each mol\n",
    "    for mol in SDF:\n",
    "        if mol is None:\n",
    "            continue\n",
    "        if mol.GetPropsAsDict()['Success'] == 'True':\n",
    "            y_pred_mers.append(mol)\n",
    "\n",
    "\n",
    "\n",
    "## Collect SARS data:\n",
    "\n",
    "with Chem.SDMolSupplier(input_sdf_sars_docking) as SDF:\n",
    "    # for each mol\n",
    "    for mol in SDF:\n",
    "        if mol is None:\n",
    "            continue\n",
    "        y_pred_sars.append(mol)\n",
    "\n",
    "\n",
    "with Chem.SDMolSupplier(input_sdf_sars_R2) as SDF:\n",
    "    # for each mol\n",
    "    for mol in SDF:\n",
    "        if mol is None:\n",
    "            continue\n",
    "        if mol.GetPropsAsDict()['Success'] == 'True':\n",
    "            y_pred_sars.append(mol)\n",
    "\n",
    "\n",
    "with Chem.SDMolSupplier(input_sdf_sars) as SDF:\n",
    "    # for each mol\n",
    "    for mol in SDF:\n",
    "        if mol is None:\n",
    "            continue\n",
    "        if mol.GetPropsAsDict()['Success'] == 'True':\n",
    "            y_pred_sars.append(mol)\n",
    "            \n",
    "\n",
    "# may be some duplicate structures, the first occurance will be used\n",
    "print(len(y_pred_mers), len(y_pred_sars))"
   ]
  },
  {
   "cell_type": "code",
   "execution_count": 3,
   "id": "f482e1d1-8cf4-4148-81d5-650220ae12f8",
   "metadata": {},
   "outputs": [],
   "source": [
    "train, test = competition.get_train_test_split()"
   ]
  },
  {
   "cell_type": "code",
   "execution_count": 4,
   "id": "7a73dd87-a451-4a21-839c-66f19a3cc135",
   "metadata": {},
   "outputs": [],
   "source": [
    "y_pred = []\n",
    "\n",
    "for i in range(len(test)):\n",
    "    done = 0\n",
    "    smiles = test[i][\"CXSMILES\"]\n",
    "    label = test[i]['Protein Label']\n",
    "\n",
    "    if label == \"MERS-CoV Mpro\":\n",
    "        for j in range(len(y_pred_mers)):\n",
    "            # search for matching smiles in collected mers data\n",
    "            smiles_b = Chem.MolToSmiles(y_pred_mers[j])\n",
    "            b = Chem.CanonSmiles(smiles_b)\n",
    "            if smiles==b:\n",
    "                y_pred.append(y_pred_mers[j])\n",
    "                done = 1\n",
    "                break\n",
    "    \n",
    "    if label == \"SARS-CoV-2 Mpro\":\n",
    "        for j in range(len(y_pred_sars)):\n",
    "            # search for matching smiles in collected sars data\n",
    "            smiles_b = Chem.MolToSmiles(y_pred_sars[j])\n",
    "            b = Chem.CanonSmiles(smiles_b)\n",
    "            if smiles==b:\n",
    "                y_pred.append(y_pred_sars[j])\n",
    "                done = 1\n",
    "                break\n",
    "\n",
    "    # check for missing mlecules\n",
    "    if done == 0:\n",
    "        print(i, label, smiles)"
   ]
  },
  {
   "cell_type": "code",
   "execution_count": 5,
   "id": "bb5f6a8e-7353-4d79-a4b8-b8fc6afc7e59",
   "metadata": {},
   "outputs": [
    {
     "name": "stdout",
     "output_type": "stream",
     "text": [
      "195 195\n"
     ]
    }
   ],
   "source": [
    "# should be equal\n",
    "print(len(test), len(y_pred))"
   ]
  },
  {
   "cell_type": "code",
   "execution_count": null,
   "id": "3d5fc758-3151-46d8-9ed9-c919dda5986b",
   "metadata": {},
   "outputs": [],
   "source": []
  },
  {
   "cell_type": "code",
   "execution_count": null,
   "id": "15a93dd4-dba4-4845-941c-244ea2df80d3",
   "metadata": {},
   "outputs": [],
   "source": []
  },
  {
   "cell_type": "code",
   "execution_count": 6,
   "id": "fc6f5dbc-5408-4b86-b78f-5cd296626a8c",
   "metadata": {},
   "outputs": [],
   "source": [
    "def serialize_rdkit_mol(mol: Chem.Mol): \n",
    "    props = Chem.PropertyPickleOptions.AllProps\n",
    "    mol_bytes = mol.ToBinary(props)\n",
    "    return base64.b64encode(mol_bytes).decode('ascii')  \n",
    "\n",
    "\n",
    "y_pred_serialized = [serialize_rdkit_mol(mol) for mol in y_pred]"
   ]
  },
  {
   "cell_type": "code",
   "execution_count": 7,
   "id": "34c09e2f-9ece-42d0-a467-6737a19bd3a6",
   "metadata": {},
   "outputs": [
    {
     "data": {
      "text/plain": [
       "True"
      ]
     },
     "execution_count": 7,
     "metadata": {},
     "output_type": "execute_result"
    }
   ],
   "source": [
    "# check serialisation:\n",
    "\n",
    "index=0\n",
    "\n",
    "deserialized = Chem.Mol(base64.b64decode(y_pred_serialized[index].encode(\"ascii\")))\n",
    "dm.same_mol(y_pred[index], deserialized)"
   ]
  },
  {
   "cell_type": "code",
   "execution_count": null,
   "id": "20c11154-f1d5-49b3-b461-6c9550f4fed9",
   "metadata": {},
   "outputs": [],
   "source": []
  },
  {
   "cell_type": "code",
   "execution_count": null,
   "id": "a49d58c7-b4dc-425b-a570-03c0a3fb8955",
   "metadata": {},
   "outputs": [],
   "source": []
  },
  {
   "cell_type": "markdown",
   "id": "8f097e9e-c189-4067-8506-22ef224d687d",
   "metadata": {},
   "source": [
    "### Submission"
   ]
  },
  {
   "cell_type": "code",
   "execution_count": 8,
   "id": "5d9313b2-068c-46f4-b127-9a091c5878f7",
   "metadata": {},
   "outputs": [
    {
     "name": "stdout",
     "output_type": "stream",
     "text": [
      "✅ SUCCESS: \u001b[1mYour competition predictions have been successfully uploaded to the Hub for evaluation.\u001b[0m\n",
      " \n"
     ]
    },
    {
     "name": "stderr",
     "output_type": "stream",
     "text": [
      "/tank/home/ndc104/anaconda3/envs/polaris/lib/python3.12/site-packages/yaspin/core.py:171: UserWarning: color, on_color and attrs are not supported when running in jupyter\n",
      "  self._color = self._set_color(value) if value else value\n"
     ]
    }
   ],
   "source": [
    "competition.submit_predictions(\n",
    "    predictions=y_pred_serialized,\n",
    "    # edit for alternative submission:\n",
    "    prediction_name=\"newcastle-edinburgh-fegrow\",\n",
    "    prediction_owner=\"djc56\",\n",
    "    report_url=\"https://github.com/cole-group/FEgrow\", \n",
    "    # The below metadata is optional, but recommended.\n",
    "    github_url=\"https://github.com/cole-group/FEgrow\",\n",
    "    description=\"FEgrow submission by Finlay Clark, Asma Feriel Khoualdi, Josh Horton, Julien Michel and Daniel Cole (v2)\",\n",
    "    tags=[\"FEgrow\", \"ANI\", \"OpenMM\", \"RDKit\"],\n",
    "    user_attributes={\"Framework\": \"FEgrow\", \"Method\": \"Constrained geometry optimisation with ML/MM\"}\n",
    ")"
   ]
  },
  {
   "cell_type": "code",
   "execution_count": null,
   "id": "568f67c5-b0c7-4bcb-ae49-20aca01439aa",
   "metadata": {},
   "outputs": [],
   "source": []
  },
  {
   "cell_type": "code",
   "execution_count": null,
   "id": "7d607799-785f-4f42-aac4-0cf173afc02b",
   "metadata": {},
   "outputs": [],
   "source": []
  },
  {
   "cell_type": "code",
   "execution_count": 9,
   "id": "aacbc8e1-0c7f-464c-9b97-865b9a056834",
   "metadata": {},
   "outputs": [],
   "source": [
    "writer = Chem.SDWriter('submitted.sdf')\n",
    "for cid in range(len(y_pred)):\n",
    "    writer.write(y_pred[cid])"
   ]
  },
  {
   "cell_type": "code",
   "execution_count": null,
   "id": "d6d9dbf2-81b5-4142-b9e8-847294e763ca",
   "metadata": {},
   "outputs": [],
   "source": []
  }
 ],
 "metadata": {
  "kernelspec": {
   "display_name": "polaris",
   "language": "python",
   "name": "polaris"
  },
  "language_info": {
   "codemirror_mode": {
    "name": "ipython",
    "version": 3
   },
   "file_extension": ".py",
   "mimetype": "text/x-python",
   "name": "python",
   "nbconvert_exporter": "python",
   "pygments_lexer": "ipython3",
   "version": "3.12.2"
  }
 },
 "nbformat": 4,
 "nbformat_minor": 5
}
