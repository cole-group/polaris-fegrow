{
 "cells": [
  {
   "cell_type": "code",
   "execution_count": 2,
   "id": "397041d7",
   "metadata": {},
   "outputs": [],
   "source": [
    "from rdkit import Chem\n",
    "from rdkit.Chem import AllChem"
   ]
  },
  {
   "cell_type": "code",
   "execution_count": 5,
   "id": "3128a76e",
   "metadata": {},
   "outputs": [
    {
     "data": {
      "image/png": "[encoded data removed]",
      "text/plain": [
       "<rdkit.Chem.rdchem.Mol at 0x7f8ca1bd68f0>"
      ]
     },
     "execution_count": 5,
     "metadata": {},
     "output_type": "execute_result"
    }
   ],
   "source": [
    "mol = Chem.MolFromSmiles('CCC')\n",
    "molh = Chem.AddHs(mol)\n",
    "\n",
    "\n",
    "AllChem.EmbedMolecule(molh)\n",
    "molh"
   ]
  },
  {
   "cell_type": "code",
   "execution_count": 7,
   "id": "16696b2e",
   "metadata": {},
   "outputs": [
    {
     "data": {
      "text/plain": [
       "<bound method close of <rdkit.Chem.rdmolfiles.SDWriter object at 0x7f8ca1c604a0>>"
      ]
     },
     "execution_count": 7,
     "metadata": {},
     "output_type": "execute_result"
    }
   ],
   "source": [
    "w = Chem.SDWriter('in.sdf')\n",
    "w.write(molh)\n",
    "w.close"
   ]
  },
  {
   "cell_type": "code",
   "execution_count": null,
   "id": "972aa17d",
   "metadata": {},
   "outputs": [],
   "source": []
  }
 ],
 "metadata": {
  "kernelspec": {
   "display_name": "Python 3 (ipykernel)",
   "language": "python",
   "name": "python3"
  },
  "language_info": {
   "codemirror_mode": {
    "name": "ipython",
    "version": 3
   },
   "file_extension": ".py",
   "mimetype": "text/x-python",
   "name": "python",
   "nbconvert_exporter": "python",
   "pygments_lexer": "ipython3",
   "version": "3.11.7"
  }
 },
 "nbformat": 4,
 "nbformat_minor": 5
}
