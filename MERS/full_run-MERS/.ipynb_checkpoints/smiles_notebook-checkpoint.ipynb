{
 "cells": [
  {
   "cell_type": "markdown",
   "id": "9c4c7edd",
   "metadata": {},
   "source": [
    "# FEgrow: An Open-Source Molecular Builder and Free Energy Preparation Workflow\n",
    "\n",
    "**Authors: Mateusz K Bieniek, Ben Cree, Rachael Pirie, Joshua T. Horton, Natalie J. Tatum, Daniel J. Cole**"
   ]
  },
  {
   "cell_type": "markdown",
   "id": "ba86bf5e",
   "metadata": {},
   "source": [
    "## Overview\n",
    "\n",
    "Building and scoring molecules can be further streamlined by employing our established protocol. Here we show how to quickly build a library and score the entire library. "
   ]
  },
  {
   "cell_type": "code",
   "execution_count": null,
   "id": "10a1f1b0",
   "metadata": {},
   "outputs": [],
   "source": [
    "import pandas as pd\n",
    "import prody\n",
    "from rdkit import Chem\n",
    "\n",
    "import fegrow\n",
    "from fegrow import ChemSpace\n",
    "\n",
    "from fegrow.testing import core_5R83_path, rec_5R83_path, data_5R83_path"
   ]
  },
  {
   "cell_type": "markdown",
   "id": "cd53ff25",
   "metadata": {},
   "source": [
    "# Prepare the ligand template"
   ]
  },
  {
   "cell_type": "code",
   "execution_count": null,
   "id": "8694b224",
   "metadata": {},
   "outputs": [],
   "source": [
    "#!grep \"XEY\" 7l10.pdb > in.pdb\n",
    "!obabel -ipdb lig-rebuilt.pdb -O in-H.sdf -p 7"
   ]
  },
  {
   "cell_type": "code",
   "execution_count": null,
   "id": "b8c3547f",
   "metadata": {},
   "outputs": [],
   "source": [
    "#scaffold = Chem.SDMolSupplier(core_5R83_path)[0]\n",
    "scaffold = Chem.SDMolSupplier('in-H.sdf')[0]"
   ]
  },
  {
   "cell_type": "code",
   "execution_count": null,
   "id": "ac6b40a8",
   "metadata": {},
   "outputs": [],
   "source": [
    "toview = fegrow.RMol(scaffold)\n",
    "toview.rep2D(idx=True, size=(500, 500))"
   ]
  },
  {
   "cell_type": "code",
   "execution_count": null,
   "id": "32fb23d9",
   "metadata": {},
   "outputs": [],
   "source": [
    "with open('smiles-test-MERS.txt') as f:\n",
    "    mols = f.read().splitlines()"
   ]
  },
  {
   "cell_type": "code",
   "execution_count": null,
   "id": "0defb7d8",
   "metadata": {},
   "outputs": [],
   "source": [
    "mols[0]"
   ]
  },
  {
   "cell_type": "code",
   "execution_count": null,
   "id": "745529df",
   "metadata": {},
   "outputs": [],
   "source": [
    "#mols = ['C1(OCCC)=CC=CN=C1',\n",
    "#        'CNC(=O)CN1C[C@@]2(C(=O)N(c3cncc4ccccc34)C[C@@H]2CNc2ccncn2)c2cc(Cl)ccc2C1=O',\n",
    "#        'CNC(=O)CN1C[C@@]2(C(=O)N(c3cncc4ccccc34)C[C@@H]2CNc2cnn(C)c2)c2cc(Cl)ccc2C1=O',\n",
    "#        'Cc1cnc(CN2C[C@@]3(C(=O)N(c4cncc5ccccc45)C[C@@H]3C)c3cc(F)ccc3C2=O)cn1',\n",
    "#        'CNC(=O)CN1C[C@@]2(C(=O)N(c3cncc4ccccc34)C[C@@H]2COC(C)C)c2cc(Cl)ccc2C1=O',\n",
    "#        'C[C@H]1CN(c2cncc3ccccc23)C(=O)[C@@]12CN(Cc1nccn1C)C(=O)c1ccc(F)cc12'\n",
    "#       ]"
   ]
  },
  {
   "cell_type": "code",
   "execution_count": null,
   "id": "f9eadd91",
   "metadata": {},
   "outputs": [],
   "source": [
    "Chem.MolFromSmiles(mols[0])"
   ]
  },
  {
   "cell_type": "code",
   "execution_count": null,
   "id": "7b1c50f6",
   "metadata": {},
   "outputs": [],
   "source": []
  },
  {
   "cell_type": "code",
   "execution_count": null,
   "id": "6455b18e",
   "metadata": {},
   "outputs": [],
   "source": [
    "pattern = scaffold\n",
    "\n",
    "for i in range(len(mols)):\n",
    "    mol = Chem.MolFromSmiles(mols[i])\n",
    "    if mol.HasSubstructMatch(pattern) == False:\n",
    "        print(i, mols[i])"
   ]
  },
  {
   "cell_type": "code",
   "execution_count": null,
   "id": "a8230f6d",
   "metadata": {},
   "outputs": [],
   "source": []
  },
  {
   "cell_type": "markdown",
   "id": "6f36f867",
   "metadata": {},
   "source": [
    "As we are using already prepared Smiles that have the scaffold as a substructure, it is not needed to set any growing vector. "
   ]
  },
  {
   "cell_type": "code",
   "execution_count": null,
   "id": "bd37487e",
   "metadata": {},
   "outputs": [],
   "source": []
  },
  {
   "cell_type": "code",
   "execution_count": null,
   "id": "063a03d1",
   "metadata": {},
   "outputs": [],
   "source": [
    "from dask.distributed import LocalCluster\n",
    "lc = LocalCluster(processes=True, n_workers=None, threads_per_worker=1)"
   ]
  },
  {
   "cell_type": "code",
   "execution_count": null,
   "id": "609ac169",
   "metadata": {},
   "outputs": [],
   "source": []
  },
  {
   "cell_type": "code",
   "execution_count": null,
   "id": "538b49cb",
   "metadata": {
    "scrolled": true
   },
   "outputs": [],
   "source": [
    "# create the chemical space\n",
    "cs = ChemSpace(dask_cluster=lc)\n",
    "cs"
   ]
  },
  {
   "cell_type": "code",
   "execution_count": null,
   "id": "c6d66d1e",
   "metadata": {},
   "outputs": [],
   "source": [
    "#cs._dask_cluster"
   ]
  },
  {
   "cell_type": "code",
   "execution_count": null,
   "id": "e9de859d",
   "metadata": {},
   "outputs": [],
   "source": []
  },
  {
   "cell_type": "code",
   "execution_count": null,
   "id": "3c04a9ef",
   "metadata": {},
   "outputs": [],
   "source": [
    "# we're not growing the scaffold, we're superimposing bigger molecules on it\n",
    "cs.add_scaffold(scaffold)"
   ]
  },
  {
   "cell_type": "code",
   "execution_count": null,
   "id": "a99f1e03",
   "metadata": {},
   "outputs": [],
   "source": []
  },
  {
   "cell_type": "code",
   "execution_count": null,
   "id": "689d4e59",
   "metadata": {},
   "outputs": [],
   "source": [
    "# get the protein-ligand complex structure\n",
    "#!wget -nc https://files.rcsb.org/download/3vf6.pdb\n",
    "\n",
    "# load the complex with the ligand\n",
    "sys = prody.parsePDB('complex-MERS.pdb')\n",
    "\n",
    "# remove any unwanted molecules\n",
    "rec = sys.select('not (nucleic or hetatm or water)')\n",
    "\n",
    "# save the processed protein\n",
    "prody.writePDB('rec.pdb', rec)\n",
    "\n",
    "# fix the receptor file (missing residues, protonation, etc)\n",
    "fegrow.fix_receptor(\"rec.pdb\", \"rec_final.pdb\")\n",
    "\n",
    "# load back into prody\n",
    "#rec_final = prody.parsePDB(\"rec_final.pdb\")\n",
    "#rec_final = prody.parsePDB(\"out.pdb\")\n",
    "\n",
    "# fix the receptor file (missing residues, protonation, etc)\n",
    "##fegrow.fix_receptor(\"7t79-H-prep.pdb\", \"rec_final.pdb\")\n",
    "\n",
    "# load back into prody\n",
    "##rec_final = prody.parsePDB(\"rec_final.pdb\")\n",
    "\n",
    "#!grep \"ATOM\" ../structures/7t79-H.pdb > rec_final.pdb\n",
    "#cs.add_protein(rec_5R83_path)\n",
    "cs.add_protein('rec_final.pdb')"
   ]
  },
  {
   "cell_type": "code",
   "execution_count": null,
   "id": "ed6471a8",
   "metadata": {
    "scrolled": true
   },
   "outputs": [],
   "source": [
    "# load 50k Smiles\n",
    "#smiles = pd.read_csv('csv/arthor-hits-2024Mar26-0918.csv',\n",
    "#                     names=[\"Smiles\", \"??\", \"db\"],\n",
    "#                     index_col=0).Smiles\n",
    "\n",
    "#smiles = pd.read_csv('smiles.csv').Smiles.to_list()\n",
    "\n",
    "\n",
    "# take all 20000\n",
    "#smiles = smiles.apply(lambda r: r.split()[0])\n",
    "smiles = mols[0:]\n",
    "\n",
    "# here we add Smiles which should already have been matched\n",
    "# to the scaffold (rdkit Mol.HasSubstructureMatch)\n",
    "#cs.add_smiles(smiles.to_list(), protonate=True)\n",
    "cs.add_smiles(smiles, protonate=True)\n",
    "cs"
   ]
  },
  {
   "cell_type": "code",
   "execution_count": null,
   "id": "84d8aa72",
   "metadata": {},
   "outputs": [],
   "source": []
  },
  {
   "cell_type": "code",
   "execution_count": null,
   "id": "2ae4dea6",
   "metadata": {},
   "outputs": [],
   "source": []
  },
  {
   "cell_type": "code",
   "execution_count": null,
   "id": "d323742f",
   "metadata": {},
   "outputs": [],
   "source": [
    "cs.evaluate(num_conf=500, gnina_gpu=True, penalty=0.0, al_ignore_penalty=False)"
   ]
  },
  {
   "cell_type": "code",
   "execution_count": null,
   "id": "139b43c1",
   "metadata": {},
   "outputs": [],
   "source": []
  },
  {
   "cell_type": "code",
   "execution_count": null,
   "id": "44faea11",
   "metadata": {},
   "outputs": [],
   "source": [
    "cs.df"
   ]
  },
  {
   "cell_type": "code",
   "execution_count": null,
   "id": "aa7ee3c8",
   "metadata": {},
   "outputs": [],
   "source": [
    "cs.to_sdf(\"cs_optimised_molecules.sdf\")"
   ]
  },
  {
   "cell_type": "code",
   "execution_count": null,
   "id": "858a6334",
   "metadata": {},
   "outputs": [],
   "source": []
  },
  {
   "cell_type": "code",
   "execution_count": null,
   "id": "bcefb75a",
   "metadata": {},
   "outputs": [],
   "source": [
    "for i in range (len(cs)):\n",
    "    try:\n",
    "        cs[i].to_file(\"best_conformers_{0}.pdb\".format(i))\n",
    "    except AttributeError:\n",
    "        print(\"No conformer for molecule\", i)"
   ]
  },
  {
   "cell_type": "code",
   "execution_count": null,
   "id": "97500284",
   "metadata": {},
   "outputs": [],
   "source": []
  },
  {
   "cell_type": "code",
   "execution_count": null,
   "id": "c08591f3",
   "metadata": {},
   "outputs": [],
   "source": [
    "cs.df.to_csv('MERS-out.csv', index=True)"
   ]
  },
  {
   "cell_type": "code",
   "execution_count": null,
   "id": "90c8bd41",
   "metadata": {},
   "outputs": [],
   "source": []
  },
  {
   "cell_type": "code",
   "execution_count": null,
   "id": "4e642b2d",
   "metadata": {},
   "outputs": [],
   "source": []
  }
 ],
 "metadata": {
  "kernelspec": {
   "display_name": "fegrowcs",
   "language": "python",
   "name": "fegrowcs"
  },
  "language_info": {
   "codemirror_mode": {
    "name": "ipython",
    "version": 3
   },
   "file_extension": ".py",
   "mimetype": "text/x-python",
   "name": "python",
   "nbconvert_exporter": "python",
   "pygments_lexer": "ipython3",
   "version": "3.10.13"
  }
 },
 "nbformat": 4,
 "nbformat_minor": 5
}
